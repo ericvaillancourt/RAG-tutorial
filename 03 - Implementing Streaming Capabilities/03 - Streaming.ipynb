{
 "cells": [
  {
   "cell_type": "code",
   "execution_count": null,
   "metadata": {},
   "outputs": [],
   "source": [
    "%pip install --upgrade --quiet  langchain langchain-community langchainhub langchain-openai langchain-chroma bs4"
   ]
  },
  {
   "cell_type": "code",
   "execution_count": 1,
   "metadata": {},
   "outputs": [
    {
     "data": {
      "text/plain": [
       "True"
      ]
     },
     "execution_count": 1,
     "metadata": {},
     "output_type": "execute_result"
    }
   ],
   "source": [
    "from dotenv import load_dotenv\n",
    "load_dotenv()"
   ]
  },
  {
   "cell_type": "markdown",
   "metadata": {},
   "source": [
    "### Chain with sources"
   ]
  },
  {
   "cell_type": "code",
   "execution_count": 9,
   "metadata": {},
   "outputs": [],
   "source": [
    "import bs4\n",
    "from langchain import hub\n",
    "from langchain_chroma import Chroma\n",
    "from langchain_community.document_loaders import WebBaseLoader\n",
    "from langchain_core.output_parsers import StrOutputParser\n",
    "from langchain_core.runnables import RunnableParallel, RunnablePassthrough\n",
    "from langchain_openai import ChatOpenAI, OpenAIEmbeddings\n",
    "from langchain_text_splitters import RecursiveCharacterTextSplitter"
   ]
  },
  {
   "cell_type": "code",
   "execution_count": 10,
   "metadata": {},
   "outputs": [],
   "source": [
    "# Load, chunk and index the contents of the blog.\n",
    "bs_strainer = bs4.SoupStrainer(class_=(\"post-content\", \"post-title\", \"post-header\"))\n",
    "loader = WebBaseLoader(\n",
    "    web_paths=(\"https://lilianweng.github.io/posts/2023-06-23-agent/\",),\n",
    "    bs_kwargs={\"parse_only\": bs_strainer},\n",
    ")\n",
    "docs = loader.load()\n",
    "\n",
    "text_splitter = RecursiveCharacterTextSplitter(chunk_size=1000, chunk_overlap=200)\n",
    "splits = text_splitter.split_documents(docs)\n",
    "vectorstore = Chroma.from_documents(documents=splits, embedding=OpenAIEmbeddings())\n",
    "\n",
    "# Retrieve and generate using the relevant snippets of the blog.\n",
    "retriever = vectorstore.as_retriever()\n",
    "prompt = hub.pull(\"rlm/rag-prompt\")\n",
    "llm = ChatOpenAI(model=\"gpt-3.5-turbo\", temperature=0)\n",
    "\n",
    "\n",
    "def format_docs(docs):\n",
    "    return \"\\n\\n\".join(doc.page_content for doc in docs)\n",
    "\n",
    "\n",
    "rag_chain_from_docs = (\n",
    "    RunnablePassthrough.assign(context=(lambda x: format_docs(x[\"context\"])))\n",
    "    | prompt\n",
    "    | llm\n",
    "    | StrOutputParser()\n",
    ")\n",
    "\n",
    "rag_chain_with_source = RunnableParallel(\n",
    "    {\"context\": retriever, \"question\": RunnablePassthrough()}\n",
    ").assign(answer=rag_chain_from_docs)"
   ]
  },
  {
   "cell_type": "code",
   "execution_count": 15,
   "metadata": {},
   "outputs": [
    {
     "name": "stdout",
     "output_type": "stream",
     "text": [
      "{'question': 'What is Task Decomposition'}\n",
      "{'context': [Document(page_content='Fig. 1. Overview of a LLM-powered autonomous agent system.\\nComponent One: Planning#\\nA complicated task usually involves many steps. An agent needs to know what they are and plan ahead.\\nTask Decomposition#\\nChain of thought (CoT; Wei et al. 2022) has become a standard prompting technique for enhancing model performance on complex tasks. The model is instructed to “think step by step” to utilize more test-time computation to decompose hard tasks into smaller and simpler steps. CoT transforms big tasks into multiple manageable tasks and shed lights into an interpretation of the model’s thinking process.', metadata={'source': 'https://lilianweng.github.io/posts/2023-06-23-agent/'}), Document(page_content='Fig. 1. Overview of a LLM-powered autonomous agent system.\\nComponent One: Planning#\\nA complicated task usually involves many steps. An agent needs to know what they are and plan ahead.\\nTask Decomposition#\\nChain of thought (CoT; Wei et al. 2022) has become a standard prompting technique for enhancing model performance on complex tasks. The model is instructed to “think step by step” to utilize more test-time computation to decompose hard tasks into smaller and simpler steps. CoT transforms big tasks into multiple manageable tasks and shed lights into an interpretation of the model’s thinking process.', metadata={'source': 'https://lilianweng.github.io/posts/2023-06-23-agent/'}), Document(page_content='Tree of Thoughts (Yao et al. 2023) extends CoT by exploring multiple reasoning possibilities at each step. It first decomposes the problem into multiple thought steps and generates multiple thoughts per step, creating a tree structure. The search process can be BFS (breadth-first search) or DFS (depth-first search) with each state evaluated by a classifier (via a prompt) or majority vote.\\nTask decomposition can be done (1) by LLM with simple prompting like \"Steps for XYZ.\\\\n1.\", \"What are the subgoals for achieving XYZ?\", (2) by using task-specific instructions; e.g. \"Write a story outline.\" for writing a novel, or (3) with human inputs.', metadata={'source': 'https://lilianweng.github.io/posts/2023-06-23-agent/'}), Document(page_content='Tree of Thoughts (Yao et al. 2023) extends CoT by exploring multiple reasoning possibilities at each step. It first decomposes the problem into multiple thought steps and generates multiple thoughts per step, creating a tree structure. The search process can be BFS (breadth-first search) or DFS (depth-first search) with each state evaluated by a classifier (via a prompt) or majority vote.\\nTask decomposition can be done (1) by LLM with simple prompting like \"Steps for XYZ.\\\\n1.\", \"What are the subgoals for achieving XYZ?\", (2) by using task-specific instructions; e.g. \"Write a story outline.\" for writing a novel, or (3) with human inputs.', metadata={'source': 'https://lilianweng.github.io/posts/2023-06-23-agent/'})]}\n",
      "{'answer': ''}\n",
      "{'answer': 'Task'}\n",
      "{'answer': ' decomposition'}\n",
      "{'answer': ' is'}\n",
      "{'answer': ' a'}\n",
      "{'answer': ' technique'}\n",
      "{'answer': ' that'}\n",
      "{'answer': ' breaks'}\n",
      "{'answer': ' down'}\n",
      "{'answer': ' complex'}\n",
      "{'answer': ' tasks'}\n",
      "{'answer': ' into'}\n",
      "{'answer': ' smaller'}\n",
      "{'answer': ' and'}\n",
      "{'answer': ' simpler'}\n",
      "{'answer': ' steps'}\n",
      "{'answer': '.'}\n",
      "{'answer': ' It'}\n",
      "{'answer': ' can'}\n",
      "{'answer': ' be'}\n",
      "{'answer': ' achieved'}\n",
      "{'answer': ' through'}\n",
      "{'answer': ' prompting'}\n",
      "{'answer': ' models'}\n",
      "{'answer': ' to'}\n",
      "{'answer': ' think'}\n",
      "{'answer': ' step'}\n",
      "{'answer': ' by'}\n",
      "{'answer': ' step'}\n",
      "{'answer': ' or'}\n",
      "{'answer': ' by'}\n",
      "{'answer': ' using'}\n",
      "{'answer': ' task'}\n",
      "{'answer': '-specific'}\n",
      "{'answer': ' instructions'}\n",
      "{'answer': '.'}\n",
      "{'answer': ' Tree'}\n",
      "{'answer': ' of'}\n",
      "{'answer': ' Thoughts'}\n",
      "{'answer': ' extends'}\n",
      "{'answer': ' this'}\n",
      "{'answer': ' concept'}\n",
      "{'answer': ' by'}\n",
      "{'answer': ' exploring'}\n",
      "{'answer': ' multiple'}\n",
      "{'answer': ' reasoning'}\n",
      "{'answer': ' possibilities'}\n",
      "{'answer': ' at'}\n",
      "{'answer': ' each'}\n",
      "{'answer': ' step'}\n",
      "{'answer': '.'}\n",
      "{'answer': ''}\n"
     ]
    }
   ],
   "source": [
    "for chunk in rag_chain_with_source.stream(\"What is Task Decomposition\"):\n",
    "    print(chunk)"
   ]
  },
  {
   "cell_type": "code",
   "execution_count": 13,
   "metadata": {},
   "outputs": [
    {
     "name": "stdout",
     "output_type": "stream",
     "text": [
      "\n",
      "\n",
      "question: What is Task Decomposition\n",
      "\n",
      "context: [Document(page_content='Fig. 1. Overview of a LLM-powered autonomous agent system.\\nComponent One: Planning#\\nA complicated task usually involves many steps. An agent needs to know what they are and plan ahead.\\nTask Decomposition#\\nChain of thought (CoT; Wei et al. 2022) has become a standard prompting technique for enhancing model performance on complex tasks. The model is instructed to “think step by step” to utilize more test-time computation to decompose hard tasks into smaller and simpler steps. CoT transforms big tasks into multiple manageable tasks and shed lights into an interpretation of the model’s thinking process.', metadata={'source': 'https://lilianweng.github.io/posts/2023-06-23-agent/'}), Document(page_content='Fig. 1. Overview of a LLM-powered autonomous agent system.\\nComponent One: Planning#\\nA complicated task usually involves many steps. An agent needs to know what they are and plan ahead.\\nTask Decomposition#\\nChain of thought (CoT; Wei et al. 2022) has become a standard prompting technique for enhancing model performance on complex tasks. The model is instructed to “think step by step” to utilize more test-time computation to decompose hard tasks into smaller and simpler steps. CoT transforms big tasks into multiple manageable tasks and shed lights into an interpretation of the model’s thinking process.', metadata={'source': 'https://lilianweng.github.io/posts/2023-06-23-agent/'}), Document(page_content='Tree of Thoughts (Yao et al. 2023) extends CoT by exploring multiple reasoning possibilities at each step. It first decomposes the problem into multiple thought steps and generates multiple thoughts per step, creating a tree structure. The search process can be BFS (breadth-first search) or DFS (depth-first search) with each state evaluated by a classifier (via a prompt) or majority vote.\\nTask decomposition can be done (1) by LLM with simple prompting like \"Steps for XYZ.\\\\n1.\", \"What are the subgoals for achieving XYZ?\", (2) by using task-specific instructions; e.g. \"Write a story outline.\" for writing a novel, or (3) with human inputs.', metadata={'source': 'https://lilianweng.github.io/posts/2023-06-23-agent/'}), Document(page_content='Tree of Thoughts (Yao et al. 2023) extends CoT by exploring multiple reasoning possibilities at each step. It first decomposes the problem into multiple thought steps and generates multiple thoughts per step, creating a tree structure. The search process can be BFS (breadth-first search) or DFS (depth-first search) with each state evaluated by a classifier (via a prompt) or majority vote.\\nTask decomposition can be done (1) by LLM with simple prompting like \"Steps for XYZ.\\\\n1.\", \"What are the subgoals for achieving XYZ?\", (2) by using task-specific instructions; e.g. \"Write a story outline.\" for writing a novel, or (3) with human inputs.', metadata={'source': 'https://lilianweng.github.io/posts/2023-06-23-agent/'})]\n",
      "\n",
      "answer: Task decomposition is a technique used to break down complex tasks into smaller and simpler steps. It involves transforming big tasks into multiple manageable tasks to aid in the interpretation of the model's thinking process. Different methods like Chain of Thought and Tree of Thoughts can be used to decompose tasks effectively."
     ]
    },
    {
     "data": {
      "text/plain": [
       "{'question': 'What is Task Decomposition',\n",
       " 'context': [Document(page_content='Fig. 1. Overview of a LLM-powered autonomous agent system.\\nComponent One: Planning#\\nA complicated task usually involves many steps. An agent needs to know what they are and plan ahead.\\nTask Decomposition#\\nChain of thought (CoT; Wei et al. 2022) has become a standard prompting technique for enhancing model performance on complex tasks. The model is instructed to “think step by step” to utilize more test-time computation to decompose hard tasks into smaller and simpler steps. CoT transforms big tasks into multiple manageable tasks and shed lights into an interpretation of the model’s thinking process.', metadata={'source': 'https://lilianweng.github.io/posts/2023-06-23-agent/'}),\n",
       "  Document(page_content='Fig. 1. Overview of a LLM-powered autonomous agent system.\\nComponent One: Planning#\\nA complicated task usually involves many steps. An agent needs to know what they are and plan ahead.\\nTask Decomposition#\\nChain of thought (CoT; Wei et al. 2022) has become a standard prompting technique for enhancing model performance on complex tasks. The model is instructed to “think step by step” to utilize more test-time computation to decompose hard tasks into smaller and simpler steps. CoT transforms big tasks into multiple manageable tasks and shed lights into an interpretation of the model’s thinking process.', metadata={'source': 'https://lilianweng.github.io/posts/2023-06-23-agent/'}),\n",
       "  Document(page_content='Tree of Thoughts (Yao et al. 2023) extends CoT by exploring multiple reasoning possibilities at each step. It first decomposes the problem into multiple thought steps and generates multiple thoughts per step, creating a tree structure. The search process can be BFS (breadth-first search) or DFS (depth-first search) with each state evaluated by a classifier (via a prompt) or majority vote.\\nTask decomposition can be done (1) by LLM with simple prompting like \"Steps for XYZ.\\\\n1.\", \"What are the subgoals for achieving XYZ?\", (2) by using task-specific instructions; e.g. \"Write a story outline.\" for writing a novel, or (3) with human inputs.', metadata={'source': 'https://lilianweng.github.io/posts/2023-06-23-agent/'}),\n",
       "  Document(page_content='Tree of Thoughts (Yao et al. 2023) extends CoT by exploring multiple reasoning possibilities at each step. It first decomposes the problem into multiple thought steps and generates multiple thoughts per step, creating a tree structure. The search process can be BFS (breadth-first search) or DFS (depth-first search) with each state evaluated by a classifier (via a prompt) or majority vote.\\nTask decomposition can be done (1) by LLM with simple prompting like \"Steps for XYZ.\\\\n1.\", \"What are the subgoals for achieving XYZ?\", (2) by using task-specific instructions; e.g. \"Write a story outline.\" for writing a novel, or (3) with human inputs.', metadata={'source': 'https://lilianweng.github.io/posts/2023-06-23-agent/'})],\n",
       " 'answer': \"Task decomposition is a technique used to break down complex tasks into smaller and simpler steps. It involves transforming big tasks into multiple manageable tasks to aid in the interpretation of the model's thinking process. Different methods like Chain of Thought and Tree of Thoughts can be used to decompose tasks effectively.\"}"
      ]
     },
     "execution_count": 13,
     "metadata": {},
     "output_type": "execute_result"
    }
   ],
   "source": [
    "output = {}\n",
    "curr_key = None\n",
    "for chunk in rag_chain_with_source.stream(\"What is Task Decomposition\"):\n",
    "    for key in chunk:\n",
    "        if key not in output:\n",
    "            output[key] = chunk[key]\n",
    "        else:\n",
    "            output[key] += chunk[key]\n",
    "        if key != curr_key:\n",
    "            print(f\"\\n\\n{key}: {chunk[key]}\", end=\"\", flush=True)\n",
    "        else:\n",
    "            print(chunk[key], end=\"\", flush=True)\n",
    "        curr_key = key\n",
    "output"
   ]
  },
  {
   "cell_type": "code",
   "execution_count": 6,
   "metadata": {},
   "outputs": [],
   "source": [
    "from langchain_core.prompts import ChatPromptTemplate, MessagesPlaceholder\n",
    "\n",
    "contextualize_q_system_prompt = \"\"\"Given a chat history and the latest user question \\\n",
    "which might reference context in the chat history, formulate a standalone question \\\n",
    "which can be understood without the chat history. Do NOT answer the question, \\\n",
    "just reformulate it if needed and otherwise return it as is.\"\"\"\n",
    "contextualize_q_prompt = ChatPromptTemplate.from_messages(\n",
    "    [\n",
    "        (\"system\", contextualize_q_system_prompt),\n",
    "        MessagesPlaceholder(variable_name=\"chat_history\"),\n",
    "        (\"human\", \"{question}\"),\n",
    "    ]\n",
    ").with_config(tags=[\"contextualize_q_system_prompt\"])\n",
    "\n",
    "contextualize_q_chain = (contextualize_q_prompt | llm | StrOutputParser()).with_config(\n",
    "    tags=[\"contextualize_q_chain\"]\n",
    ")\n",
    "\n",
    "qa_system_prompt = \"\"\"You are an assistant for question-answering tasks. \\\n",
    "Use the following pieces of retrieved context to answer the question. \\\n",
    "If you don't know the answer, just say that you don't know. \\\n",
    "Use three sentences maximum and keep the answer concise.\\\n",
    "\n",
    "{context}\"\"\"\n",
    "qa_prompt = ChatPromptTemplate.from_messages(\n",
    "    [\n",
    "        (\"system\", qa_system_prompt),\n",
    "        MessagesPlaceholder(variable_name=\"chat_history\"),\n",
    "        (\"human\", \"{question}\"),\n",
    "    ]\n",
    ")\n",
    "\n",
    "\n",
    "def contextualized_question(input: dict):\n",
    "    if input.get(\"chat_history\"):\n",
    "        return contextualize_q_chain \n",
    "    else:\n",
    "        return input[\"question\"]\n",
    "\n",
    "\n",
    "rag_chain = (\n",
    "    RunnablePassthrough.assign(context=contextualized_question | retriever | format_docs)\n",
    "    | qa_prompt\n",
    "    | llm\n",
    ")\n"
   ]
  },
  {
   "cell_type": "code",
   "execution_count": 16,
   "metadata": {},
   "outputs": [
    {
     "name": "stdout",
     "output_type": "stream",
     "text": [
      "{'event': 'on_prompt_start', 'name': 'ChatPromptTemplate', 'run_id': 'fac456db-b9fc-478e-878b-7c3f94123b78', 'tags': ['seq:step:1', 'contextualize_q_system_prompt', 'contextualize_q_chain'], 'metadata': {}, 'data': {'input': {'question': 'What are common ways of doing it?', 'chat_history': [HumanMessage(content='What is Task Decomposition?'), AIMessage(content='Task decomposition is a technique used to break down complex tasks into smaller and simpler steps. It involves transforming big tasks into multiple manageable tasks to facilitate problem-solving. Task decomposition can be achieved through methods like Chain of Thought (CoT) or Tree of Thoughts, which help agents plan and execute tasks effectively.', response_metadata={'token_usage': {'completion_tokens': 60, 'prompt_tokens': 605, 'total_tokens': 665}, 'model_name': 'gpt-3.5-turbo', 'system_fingerprint': None, 'finish_reason': 'stop', 'logprobs': None}, id='run-3ce43db5-87c5-49c3-801c-6a0b1641afcc-0')]}}}\n",
      "{'event': 'on_prompt_end', 'name': 'ChatPromptTemplate', 'run_id': 'fac456db-b9fc-478e-878b-7c3f94123b78', 'tags': ['seq:step:1', 'contextualize_q_system_prompt', 'contextualize_q_chain'], 'metadata': {}, 'data': {'input': {'question': 'What are common ways of doing it?', 'chat_history': [HumanMessage(content='What is Task Decomposition?'), AIMessage(content='Task decomposition is a technique used to break down complex tasks into smaller and simpler steps. It involves transforming big tasks into multiple manageable tasks to facilitate problem-solving. Task decomposition can be achieved through methods like Chain of Thought (CoT) or Tree of Thoughts, which help agents plan and execute tasks effectively.', response_metadata={'token_usage': {'completion_tokens': 60, 'prompt_tokens': 605, 'total_tokens': 665}, 'model_name': 'gpt-3.5-turbo', 'system_fingerprint': None, 'finish_reason': 'stop', 'logprobs': None}, id='run-3ce43db5-87c5-49c3-801c-6a0b1641afcc-0')]}, 'output': ChatPromptValue(messages=[SystemMessage(content='Given a chat history and the latest user question which might reference context in the chat history, formulate a standalone question which can be understood without the chat history. Do NOT answer the question, just reformulate it if needed and otherwise return it as is.'), HumanMessage(content='What is Task Decomposition?'), AIMessage(content='Task decomposition is a technique used to break down complex tasks into smaller and simpler steps. It involves transforming big tasks into multiple manageable tasks to facilitate problem-solving. Task decomposition can be achieved through methods like Chain of Thought (CoT) or Tree of Thoughts, which help agents plan and execute tasks effectively.', response_metadata={'token_usage': {'completion_tokens': 60, 'prompt_tokens': 605, 'total_tokens': 665}, 'model_name': 'gpt-3.5-turbo', 'system_fingerprint': None, 'finish_reason': 'stop', 'logprobs': None}, id='run-3ce43db5-87c5-49c3-801c-6a0b1641afcc-0'), HumanMessage(content='What are common ways of doing it?')])}}\n",
      "{'event': 'on_parser_start', 'name': 'StrOutputParser', 'run_id': '7de2a204-dda3-4476-b4a0-1d6bf9043ceb', 'tags': ['seq:step:3', 'contextualize_q_chain'], 'metadata': {}, 'data': {}}\n",
      "{'event': 'on_parser_stream', 'name': 'StrOutputParser', 'run_id': '7de2a204-dda3-4476-b4a0-1d6bf9043ceb', 'tags': ['seq:step:3', 'contextualize_q_chain'], 'metadata': {}, 'data': {'chunk': ''}}\n",
      "{'event': 'on_parser_stream', 'name': 'StrOutputParser', 'run_id': '7de2a204-dda3-4476-b4a0-1d6bf9043ceb', 'tags': ['seq:step:3', 'contextualize_q_chain'], 'metadata': {}, 'data': {'chunk': 'What'}}\n",
      "{'event': 'on_parser_stream', 'name': 'StrOutputParser', 'run_id': '7de2a204-dda3-4476-b4a0-1d6bf9043ceb', 'tags': ['seq:step:3', 'contextualize_q_chain'], 'metadata': {}, 'data': {'chunk': ' are'}}\n",
      "{'event': 'on_parser_stream', 'name': 'StrOutputParser', 'run_id': '7de2a204-dda3-4476-b4a0-1d6bf9043ceb', 'tags': ['seq:step:3', 'contextualize_q_chain'], 'metadata': {}, 'data': {'chunk': ' some'}}\n",
      "{'event': 'on_parser_stream', 'name': 'StrOutputParser', 'run_id': '7de2a204-dda3-4476-b4a0-1d6bf9043ceb', 'tags': ['seq:step:3', 'contextualize_q_chain'], 'metadata': {}, 'data': {'chunk': ' common'}}\n",
      "{'event': 'on_parser_stream', 'name': 'StrOutputParser', 'run_id': '7de2a204-dda3-4476-b4a0-1d6bf9043ceb', 'tags': ['seq:step:3', 'contextualize_q_chain'], 'metadata': {}, 'data': {'chunk': ' methods'}}\n",
      "{'event': 'on_parser_stream', 'name': 'StrOutputParser', 'run_id': '7de2a204-dda3-4476-b4a0-1d6bf9043ceb', 'tags': ['seq:step:3', 'contextualize_q_chain'], 'metadata': {}, 'data': {'chunk': ' used'}}\n",
      "{'event': 'on_parser_stream', 'name': 'StrOutputParser', 'run_id': '7de2a204-dda3-4476-b4a0-1d6bf9043ceb', 'tags': ['seq:step:3', 'contextualize_q_chain'], 'metadata': {}, 'data': {'chunk': ' for'}}\n",
      "{'event': 'on_parser_stream', 'name': 'StrOutputParser', 'run_id': '7de2a204-dda3-4476-b4a0-1d6bf9043ceb', 'tags': ['seq:step:3', 'contextualize_q_chain'], 'metadata': {}, 'data': {'chunk': ' task'}}\n",
      "{'event': 'on_parser_stream', 'name': 'StrOutputParser', 'run_id': '7de2a204-dda3-4476-b4a0-1d6bf9043ceb', 'tags': ['seq:step:3', 'contextualize_q_chain'], 'metadata': {}, 'data': {'chunk': ' decomposition'}}\n",
      "{'event': 'on_parser_stream', 'name': 'StrOutputParser', 'run_id': '7de2a204-dda3-4476-b4a0-1d6bf9043ceb', 'tags': ['seq:step:3', 'contextualize_q_chain'], 'metadata': {}, 'data': {'chunk': '?'}}\n",
      "{'event': 'on_parser_stream', 'name': 'StrOutputParser', 'run_id': '7de2a204-dda3-4476-b4a0-1d6bf9043ceb', 'tags': ['seq:step:3', 'contextualize_q_chain'], 'metadata': {}, 'data': {'chunk': ''}}\n",
      "{'event': 'on_parser_end', 'name': 'StrOutputParser', 'run_id': '7de2a204-dda3-4476-b4a0-1d6bf9043ceb', 'tags': ['seq:step:3', 'contextualize_q_chain'], 'metadata': {}, 'data': {'input': AIMessageChunk(content='What are some common methods used for task decomposition?', response_metadata={'finish_reason': 'stop'}, id='run-d89c399c-5db8-48a4-a042-bfef48ee17f2'), 'output': 'What are some common methods used for task decomposition?'}}\n"
     ]
    }
   ],
   "source": [
    "from langchain_core.messages import HumanMessage\n",
    "\n",
    "chat_history = []\n",
    "\n",
    "question = \"What is Task Decomposition?\"\n",
    "ai_msg = rag_chain.invoke({\"question\": question, \"chat_history\": chat_history})\n",
    "chat_history.extend([HumanMessage(content=question), ai_msg])\n",
    "\n",
    "second_question = \"What are common ways of doing it?\"\n",
    "\n",
    "async for chunk in rag_chain.astream_events(\n",
    "    {\"question\": second_question, \"chat_history\": chat_history},\n",
    "    include_tags=[\"contextualize_q_system_prompt\"],\n",
    "    include_names=[\"StrOutputParser\"],\n",
    "    include_types=[\"on_parser_end\"],\n",
    "    version=\"v1\",\n",
    "):\n",
    "    print(chunk)\n",
    "    "
   ]
  },
  {
   "cell_type": "code",
   "execution_count": 8,
   "metadata": {},
   "outputs": [
    {
     "name": "stdout",
     "output_type": "stream",
     "text": [
      "{'event': 'on_retriever_start', 'name': 'Retriever', 'run_id': 'b5d70bb9-3b7d-4a6c-b736-7d463ca44cfb', 'tags': ['seq:step:2', 'Chroma', 'OpenAIEmbeddings'], 'metadata': {}, 'data': {'input': {'query': 'What are some common methods for task decomposition?'}}}\n",
      "{'event': 'on_retriever_end', 'name': 'Retriever', 'run_id': 'b5d70bb9-3b7d-4a6c-b736-7d463ca44cfb', 'tags': ['seq:step:2', 'Chroma', 'OpenAIEmbeddings'], 'metadata': {}, 'data': {'input': {'query': 'What are some common methods for task decomposition?'}, 'output': {'documents': [Document(page_content='Tree of Thoughts (Yao et al. 2023) extends CoT by exploring multiple reasoning possibilities at each step. It first decomposes the problem into multiple thought steps and generates multiple thoughts per step, creating a tree structure. The search process can be BFS (breadth-first search) or DFS (depth-first search) with each state evaluated by a classifier (via a prompt) or majority vote.\\nTask decomposition can be done (1) by LLM with simple prompting like \"Steps for XYZ.\\\\n1.\", \"What are the subgoals for achieving XYZ?\", (2) by using task-specific instructions; e.g. \"Write a story outline.\" for writing a novel, or (3) with human inputs.', metadata={'source': 'https://lilianweng.github.io/posts/2023-06-23-agent/'}), Document(page_content='Fig. 1. Overview of a LLM-powered autonomous agent system.\\nComponent One: Planning#\\nA complicated task usually involves many steps. An agent needs to know what they are and plan ahead.\\nTask Decomposition#\\nChain of thought (CoT; Wei et al. 2022) has become a standard prompting technique for enhancing model performance on complex tasks. The model is instructed to “think step by step” to utilize more test-time computation to decompose hard tasks into smaller and simpler steps. CoT transforms big tasks into multiple manageable tasks and shed lights into an interpretation of the model’s thinking process.', metadata={'source': 'https://lilianweng.github.io/posts/2023-06-23-agent/'}), Document(page_content='Resources:\\n1. Internet access for searches and information gathering.\\n2. Long Term memory management.\\n3. GPT-3.5 powered Agents for delegation of simple tasks.\\n4. File output.\\n\\nPerformance Evaluation:\\n1. Continuously review and analyze your actions to ensure you are performing to the best of your abilities.\\n2. Constructively self-criticize your big-picture behavior constantly.\\n3. Reflect on past decisions and strategies to refine your approach.\\n4. Every command has a cost, so be smart and efficient. Aim to complete tasks in the least number of steps.', metadata={'source': 'https://lilianweng.github.io/posts/2023-06-23-agent/'}), Document(page_content='Fig. 11. Illustration of how HuggingGPT works. (Image source: Shen et al. 2023)\\nThe system comprises of 4 stages:\\n(1) Task planning: LLM works as the brain and parses the user requests into multiple tasks. There are four attributes associated with each task: task type, ID, dependencies, and arguments. They use few-shot examples to guide LLM to do task parsing and planning.\\nInstruction:', metadata={'source': 'https://lilianweng.github.io/posts/2023-06-23-agent/'})]}}}\n"
     ]
    }
   ],
   "source": [
    "\n",
    "async for chunk in rag_chain.astream_events(\n",
    "    {\"question\": second_question, \"chat_history\": chat_history},\n",
    "    include_names=[\"Retriever\"],\n",
    "     version=\"v1\",):\n",
    "    print(chunk)\n"
   ]
  }
 ],
 "metadata": {
  "kernelspec": {
   "display_name": ".venv",
   "language": "python",
   "name": "python3"
  },
  "language_info": {
   "codemirror_mode": {
    "name": "ipython",
    "version": 3
   },
   "file_extension": ".py",
   "mimetype": "text/x-python",
   "name": "python",
   "nbconvert_exporter": "python",
   "pygments_lexer": "ipython3",
   "version": "3.11.7"
  }
 },
 "nbformat": 4,
 "nbformat_minor": 2
}
